{
 "cells": [
  {
   "cell_type": "code",
   "execution_count": 16,
   "id": "608f6dc9",
   "metadata": {},
   "outputs": [],
   "source": [
    "import wrangle as w\n",
    "import wrangle_Naomi\n",
    "import env\n",
    "\n",
    "import pandas as pd\n",
    "import numpy as np\n",
    "import scipy.stats as stats\n",
    "\n",
    "import seaborn as sns\n",
    "import matplotlib.pyplot as plt\n",
    "from matplotlib import cm\n",
    "\n",
    "from sklearn.model_selection import train_test_split\n",
    "from sklearn.model_selection import learning_curve\n",
    "\n",
    "from sklearn.metrics import mean_squared_error\n",
    "from sklearn.linear_model import LinearRegression, LassoLars, TweedieRegressor\n",
    "from sklearn.preprocessing import PolynomialFeatures\n",
    "from sklearn.cluster import KMeans\n",
    "\n",
    "from importlib import reload\n",
    "%matplotlib inline\n",
    "%config InlineBackend.figure_format = 'retina'"
   ]
  },
  {
   "cell_type": "code",
   "execution_count": 3,
   "id": "adbfc184",
   "metadata": {},
   "outputs": [],
   "source": [
    "reload(w)\n",
    "df = w.wrangle_zillow()"
   ]
  },
  {
   "cell_type": "code",
   "execution_count": 4,
   "id": "13c43f06",
   "metadata": {},
   "outputs": [
    {
     "name": "stdout",
     "output_type": "stream",
     "text": [
      "<class 'pandas.core.frame.DataFrame'>\n",
      "RangeIndex: 77028 entries, 0 to 77027\n",
      "Data columns (total 39 columns):\n",
      " #   Column                    Non-Null Count  Dtype         \n",
      "---  ------                    --------------  -----         \n",
      " 0   parcel_id                 77028 non-null  Int64         \n",
      " 1   bath_count                77028 non-null  Float64       \n",
      " 2   bed_count                 77028 non-null  Int64         \n",
      " 3   calc_bath_and_bed         76764 non-null  Float64       \n",
      " 4   calc_sqft                 77024 non-null  Int64         \n",
      " 5   finished_sqft12           73689 non-null  Int64         \n",
      " 6   fips                      77028 non-null  category      \n",
      " 7   fireplace_cnt             77028 non-null  Int64         \n",
      " 8   full_bath_cnt             76764 non-null  Int64         \n",
      " 9   garage_car_count          77028 non-null  Int64         \n",
      " 10  garage_sqft               25462 non-null  Int64         \n",
      " 11  latitude                  77028 non-null  Int64         \n",
      " 12  longitude                 77028 non-null  Int64         \n",
      " 13  lot_sqft                  77028 non-null  Int64         \n",
      " 14  pool_count                77028 non-null  Int64         \n",
      " 15  property_county_use_code  77028 non-null  string        \n",
      " 16  property_zoning_desc      50243 non-null  string        \n",
      " 17  raw_census_tract_block    77028 non-null  Float64       \n",
      " 18  region_id_city            75580 non-null  Int64         \n",
      " 19  region_id_county          77028 non-null  Int64         \n",
      " 20  region_id_neighbor        30828 non-null  Int64         \n",
      " 21  region_id_zip             76985 non-null  Int64         \n",
      " 22  room_count                77028 non-null  Int64         \n",
      " 23  three_quarter_bath        10096 non-null  Int64         \n",
      " 24  unit_count                50427 non-null  Int64         \n",
      " 25  year_built                76966 non-null  Int64         \n",
      " 26  no_stories                17527 non-null  Int64         \n",
      " 27  structure_tax_value       76943 non-null  Int64         \n",
      " 28  tax_value                 77027 non-null  Int64         \n",
      " 29  assessment_year           77028 non-null  Int64         \n",
      " 30  land_value                77027 non-null  Int64         \n",
      " 31  tax_amount                77023 non-null  Float64       \n",
      " 32  census_tract_and_block    76806 non-null  Int64         \n",
      " 33  log_error                 77028 non-null  Float64       \n",
      " 34  transaction_date          77028 non-null  datetime64[ns]\n",
      " 35  air_conditioning_desc     24953 non-null  string        \n",
      " 36  heating_system_desc       49439 non-null  string        \n",
      " 37  property_land_use_desc    73883 non-null  category      \n",
      " 38  outliers                  77028 non-null  category      \n",
      "dtypes: Float64(5), Int64(26), category(3), datetime64[ns](1), string(4)\n",
      "memory usage: 23.7 MB\n"
     ]
    }
   ],
   "source": [
    "df.info()"
   ]
  },
  {
   "cell_type": "code",
   "execution_count": 5,
   "id": "c5ca6d76",
   "metadata": {},
   "outputs": [],
   "source": [
    "train, validate, test = w.tvt_split(df)"
   ]
  },
  {
   "cell_type": "code",
   "execution_count": 6,
   "id": "e21b0346",
   "metadata": {},
   "outputs": [
    {
     "name": "stdout",
     "output_type": "stream",
     "text": [
      "train observations:  (43135, 39)\n",
      "validate observations:  (18487, 39)\n",
      "test observations:  (15406, 39)\n"
     ]
    }
   ],
   "source": [
    "print(\"train observations: \", train.shape)\n",
    "print(\"validate observations: \", validate.shape)\n",
    "print(\"test observations: \", test.shape)"
   ]
  },
  {
   "cell_type": "code",
   "execution_count": null,
   "id": "2c363fa0",
   "metadata": {},
   "outputs": [],
   "source": []
  },
  {
   "cell_type": "markdown",
   "id": "46fd9511",
   "metadata": {},
   "source": [
    "# explore"
   ]
  },
  {
   "cell_type": "markdown",
   "id": "28f656b8",
   "metadata": {},
   "source": [
    "### Does having nice outdoor features have a relationship with logerror?"
   ]
  },
  {
   "cell_type": "code",
   "execution_count": 7,
   "id": "69663ed7",
   "metadata": {},
   "outputs": [
    {
     "data": {
      "text/html": [
       "<div>\n",
       "<style scoped>\n",
       "    .dataframe tbody tr th:only-of-type {\n",
       "        vertical-align: middle;\n",
       "    }\n",
       "\n",
       "    .dataframe tbody tr th {\n",
       "        vertical-align: top;\n",
       "    }\n",
       "\n",
       "    .dataframe thead th {\n",
       "        text-align: right;\n",
       "    }\n",
       "</style>\n",
       "<table border=\"1\" class=\"dataframe\">\n",
       "  <thead>\n",
       "    <tr style=\"text-align: right;\">\n",
       "      <th></th>\n",
       "      <th>parcel_id</th>\n",
       "      <th>bath_count</th>\n",
       "      <th>bed_count</th>\n",
       "      <th>calc_bath_and_bed</th>\n",
       "      <th>calc_sqft</th>\n",
       "      <th>finished_sqft12</th>\n",
       "      <th>fips</th>\n",
       "      <th>fireplace_cnt</th>\n",
       "      <th>full_bath_cnt</th>\n",
       "      <th>garage_car_count</th>\n",
       "      <th>...</th>\n",
       "      <th>assessment_year</th>\n",
       "      <th>land_value</th>\n",
       "      <th>tax_amount</th>\n",
       "      <th>census_tract_and_block</th>\n",
       "      <th>log_error</th>\n",
       "      <th>transaction_date</th>\n",
       "      <th>air_conditioning_desc</th>\n",
       "      <th>heating_system_desc</th>\n",
       "      <th>property_land_use_desc</th>\n",
       "      <th>outliers</th>\n",
       "    </tr>\n",
       "  </thead>\n",
       "  <tbody>\n",
       "    <tr>\n",
       "      <th>7025</th>\n",
       "      <td>12894764</td>\n",
       "      <td>3.0</td>\n",
       "      <td>5</td>\n",
       "      <td>3.0</td>\n",
       "      <td>2862</td>\n",
       "      <td>2862</td>\n",
       "      <td>6037</td>\n",
       "      <td>0</td>\n",
       "      <td>3</td>\n",
       "      <td>0</td>\n",
       "      <td>...</td>\n",
       "      <td>2016</td>\n",
       "      <td>106103</td>\n",
       "      <td>5404.0</td>\n",
       "      <td>60650466022009</td>\n",
       "      <td>0.318812</td>\n",
       "      <td>2017-02-01</td>\n",
       "      <td>Central</td>\n",
       "      <td>Central</td>\n",
       "      <td>Planned Unit Development</td>\n",
       "      <td>upper</td>\n",
       "    </tr>\n",
       "    <tr>\n",
       "      <th>68198</th>\n",
       "      <td>12066663</td>\n",
       "      <td>2.0</td>\n",
       "      <td>2</td>\n",
       "      <td>2.0</td>\n",
       "      <td>956</td>\n",
       "      <td>956</td>\n",
       "      <td>6037</td>\n",
       "      <td>0</td>\n",
       "      <td>2</td>\n",
       "      <td>0</td>\n",
       "      <td>...</td>\n",
       "      <td>2016</td>\n",
       "      <td>85837</td>\n",
       "      <td>2349.6</td>\n",
       "      <td>60373019001027</td>\n",
       "      <td>0.024743</td>\n",
       "      <td>2017-08-22</td>\n",
       "      <td>Central</td>\n",
       "      <td>Central</td>\n",
       "      <td>Condominium</td>\n",
       "      <td>lower</td>\n",
       "    </tr>\n",
       "    <tr>\n",
       "      <th>34345</th>\n",
       "      <td>14726680</td>\n",
       "      <td>2.0</td>\n",
       "      <td>2</td>\n",
       "      <td>2.0</td>\n",
       "      <td>1530</td>\n",
       "      <td>1530</td>\n",
       "      <td>6059</td>\n",
       "      <td>0</td>\n",
       "      <td>2</td>\n",
       "      <td>2</td>\n",
       "      <td>...</td>\n",
       "      <td>2016</td>\n",
       "      <td>190961</td>\n",
       "      <td>3622.1</td>\n",
       "      <td>60590219162007</td>\n",
       "      <td>-0.016291</td>\n",
       "      <td>2017-05-10</td>\n",
       "      <td>&lt;NA&gt;</td>\n",
       "      <td>&lt;NA&gt;</td>\n",
       "      <td>Condominium</td>\n",
       "      <td>lower</td>\n",
       "    </tr>\n",
       "    <tr>\n",
       "      <th>24333</th>\n",
       "      <td>12499632</td>\n",
       "      <td>1.0</td>\n",
       "      <td>3</td>\n",
       "      <td>1.0</td>\n",
       "      <td>990</td>\n",
       "      <td>990</td>\n",
       "      <td>6037</td>\n",
       "      <td>0</td>\n",
       "      <td>1</td>\n",
       "      <td>0</td>\n",
       "      <td>...</td>\n",
       "      <td>2016</td>\n",
       "      <td>216451</td>\n",
       "      <td>3650.76</td>\n",
       "      <td>60375722014021</td>\n",
       "      <td>-0.036821</td>\n",
       "      <td>2017-04-07</td>\n",
       "      <td>&lt;NA&gt;</td>\n",
       "      <td>Floor/Wall</td>\n",
       "      <td>Single Family Residential</td>\n",
       "      <td>lower</td>\n",
       "    </tr>\n",
       "    <tr>\n",
       "      <th>49881</th>\n",
       "      <td>14011102</td>\n",
       "      <td>1.5</td>\n",
       "      <td>2</td>\n",
       "      <td>1.5</td>\n",
       "      <td>1110</td>\n",
       "      <td>1110</td>\n",
       "      <td>6059</td>\n",
       "      <td>0</td>\n",
       "      <td>1</td>\n",
       "      <td>0</td>\n",
       "      <td>...</td>\n",
       "      <td>2016</td>\n",
       "      <td>76580</td>\n",
       "      <td>1994.28</td>\n",
       "      <td>60591101093000</td>\n",
       "      <td>-0.024844</td>\n",
       "      <td>2017-06-26</td>\n",
       "      <td>&lt;NA&gt;</td>\n",
       "      <td>&lt;NA&gt;</td>\n",
       "      <td>Single Family Residential</td>\n",
       "      <td>lower</td>\n",
       "    </tr>\n",
       "  </tbody>\n",
       "</table>\n",
       "<p>5 rows × 39 columns</p>\n",
       "</div>"
      ],
      "text/plain": [
       "       parcel_id  bath_count  bed_count  calc_bath_and_bed  calc_sqft  \\\n",
       "7025    12894764         3.0          5                3.0       2862   \n",
       "68198   12066663         2.0          2                2.0        956   \n",
       "34345   14726680         2.0          2                2.0       1530   \n",
       "24333   12499632         1.0          3                1.0        990   \n",
       "49881   14011102         1.5          2                1.5       1110   \n",
       "\n",
       "       finished_sqft12  fips  fireplace_cnt  full_bath_cnt  garage_car_count  \\\n",
       "7025              2862  6037              0              3                 0   \n",
       "68198              956  6037              0              2                 0   \n",
       "34345             1530  6059              0              2                 2   \n",
       "24333              990  6037              0              1                 0   \n",
       "49881             1110  6059              0              1                 0   \n",
       "\n",
       "       ...  assessment_year  land_value  tax_amount  census_tract_and_block  \\\n",
       "7025   ...             2016      106103      5404.0          60650466022009   \n",
       "68198  ...             2016       85837      2349.6          60373019001027   \n",
       "34345  ...             2016      190961      3622.1          60590219162007   \n",
       "24333  ...             2016      216451     3650.76          60375722014021   \n",
       "49881  ...             2016       76580     1994.28          60591101093000   \n",
       "\n",
       "       log_error transaction_date air_conditioning_desc  heating_system_desc  \\\n",
       "7025    0.318812       2017-02-01               Central              Central   \n",
       "68198   0.024743       2017-08-22               Central              Central   \n",
       "34345  -0.016291       2017-05-10                  <NA>                 <NA>   \n",
       "24333  -0.036821       2017-04-07                  <NA>           Floor/Wall   \n",
       "49881  -0.024844       2017-06-26                  <NA>                 <NA>   \n",
       "\n",
       "          property_land_use_desc  outliers  \n",
       "7025    Planned Unit Development     upper  \n",
       "68198                Condominium     lower  \n",
       "34345                Condominium     lower  \n",
       "24333  Single Family Residential     lower  \n",
       "49881  Single Family Residential     lower  \n",
       "\n",
       "[5 rows x 39 columns]"
      ]
     },
     "execution_count": 7,
     "metadata": {},
     "output_type": "execute_result"
    }
   ],
   "source": [
    "train.head()"
   ]
  },
  {
   "cell_type": "code",
   "execution_count": 8,
   "id": "760b7ea1",
   "metadata": {},
   "outputs": [],
   "source": [
    "X3 = train[['garage_car_count', 'pool_count', 'lot_sqft']]"
   ]
  },
  {
   "cell_type": "code",
   "execution_count": 9,
   "id": "c4275172",
   "metadata": {},
   "outputs": [
    {
     "data": {
      "text/plain": [
       "(43135, 39)"
      ]
     },
     "execution_count": 9,
     "metadata": {},
     "output_type": "execute_result"
    }
   ],
   "source": [
    "train.shape"
   ]
  },
  {
   "cell_type": "code",
   "execution_count": 10,
   "id": "411c1c9b",
   "metadata": {
    "scrolled": true
   },
   "outputs": [
    {
     "name": "stdout",
     "output_type": "stream",
     "text": [
      "<class 'pandas.core.frame.DataFrame'>\n",
      "Int64Index: 43135 entries, 7025 to 13356\n",
      "Data columns (total 3 columns):\n",
      " #   Column            Non-Null Count  Dtype\n",
      "---  ------            --------------  -----\n",
      " 0   garage_car_count  43135 non-null  Int64\n",
      " 1   pool_count        43135 non-null  Int64\n",
      " 2   lot_sqft          43135 non-null  Int64\n",
      "dtypes: Int64(3)\n",
      "memory usage: 1.4 MB\n"
     ]
    }
   ],
   "source": [
    "X3.info()"
   ]
  },
  {
   "cell_type": "code",
   "execution_count": 11,
   "id": "66803cc8",
   "metadata": {},
   "outputs": [],
   "source": [
    "kmeans = KMeans(n_clusters = 4).fit(X3)\n",
    "train['cluster3'] = kmeans.predict(X3)"
   ]
  },
  {
   "cell_type": "code",
   "execution_count": 12,
   "id": "b2c4628f",
   "metadata": {},
   "outputs": [
    {
     "data": {
      "image/png": "[encoded data removed]",
      "text/plain": [
       "<Figure size 900x600 with 1 Axes>"
      ]
     },
     "metadata": {},
     "output_type": "display_data"
    }
   ],
   "source": [
    "with plt.style.context('seaborn-whitegrid'):\n",
    "    plt.figure(figsize=(9, 6))\n",
    "    pd.Series({k: KMeans(k).fit(X3).inertia_ for k in range(2, 12)}).plot(marker='x')\n",
    "    plt.xticks(range(2, 12))\n",
    "    plt.xlabel('k')\n",
    "    plt.ylabel('inertia')\n",
    "    plt.title('Change in inertia as k increases')"
   ]
  },
  {
   "cell_type": "code",
   "execution_count": 13,
   "id": "72f97154",
   "metadata": {},
   "outputs": [
    {
     "name": "stderr",
     "output_type": "stream",
     "text": [
      "/var/folders/_2/qgk9bxgs6tb0znx9dhfqhplw0000gn/T/ipykernel_50336/887977046.py:1: FutureWarning: Indexing with multiple keys (implicitly converted to a tuple of keys) will be deprecated, use a list instead.\n",
      "  train.groupby('cluster3')['garage_car_count', 'pool_count', 'lot_sqft'].mean()\n"
     ]
    },
    {
     "data": {
      "text/html": [
       "<div>\n",
       "<style scoped>\n",
       "    .dataframe tbody tr th:only-of-type {\n",
       "        vertical-align: middle;\n",
       "    }\n",
       "\n",
       "    .dataframe tbody tr th {\n",
       "        vertical-align: top;\n",
       "    }\n",
       "\n",
       "    .dataframe thead th {\n",
       "        text-align: right;\n",
       "    }\n",
       "</style>\n",
       "<table border=\"1\" class=\"dataframe\">\n",
       "  <thead>\n",
       "    <tr style=\"text-align: right;\">\n",
       "      <th></th>\n",
       "      <th>garage_car_count</th>\n",
       "      <th>pool_count</th>\n",
       "      <th>lot_sqft</th>\n",
       "    </tr>\n",
       "    <tr>\n",
       "      <th>cluster3</th>\n",
       "      <th></th>\n",
       "      <th></th>\n",
       "      <th></th>\n",
       "    </tr>\n",
       "  </thead>\n",
       "  <tbody>\n",
       "    <tr>\n",
       "      <th>0</th>\n",
       "      <td>0.62176</td>\n",
       "      <td>0.197689</td>\n",
       "      <td>12337.205464</td>\n",
       "    </tr>\n",
       "    <tr>\n",
       "      <th>1</th>\n",
       "      <td>0.0</td>\n",
       "      <td>0.4</td>\n",
       "      <td>1078915.9625</td>\n",
       "    </tr>\n",
       "    <tr>\n",
       "      <th>2</th>\n",
       "      <td>0.0</td>\n",
       "      <td>0.0</td>\n",
       "      <td>6971010.0</td>\n",
       "    </tr>\n",
       "    <tr>\n",
       "      <th>3</th>\n",
       "      <td>0.025947</td>\n",
       "      <td>0.516129</td>\n",
       "      <td>301184.345722</td>\n",
       "    </tr>\n",
       "  </tbody>\n",
       "</table>\n",
       "</div>"
      ],
      "text/plain": [
       "          garage_car_count  pool_count       lot_sqft\n",
       "cluster3                                             \n",
       "0                  0.62176    0.197689   12337.205464\n",
       "1                      0.0         0.4   1078915.9625\n",
       "2                      0.0         0.0      6971010.0\n",
       "3                 0.025947    0.516129  301184.345722"
      ]
     },
     "execution_count": 13,
     "metadata": {},
     "output_type": "execute_result"
    }
   ],
   "source": [
    "train.groupby('cluster3')['garage_car_count', 'pool_count', 'lot_sqft'].mean()"
   ]
  },
  {
   "cell_type": "code",
   "execution_count": 17,
   "id": "831679cb",
   "metadata": {},
   "outputs": [
    {
     "data": {
      "text/plain": [
       "<AxesSubplot:xlabel='cluster3', ylabel='log_error'>"
      ]
     },
     "execution_count": 17,
     "metadata": {},
     "output_type": "execute_result"
    },
    {
     "data": {
      "image/png": "[encoded data removed]",
      "text/plain": [
       "<Figure size 640x480 with 1 Axes>"
      ]
     },
     "metadata": {
      "image/png": {
       "height": 432,
       "width": 566
      }
     },
     "output_type": "display_data"
    }
   ],
   "source": [
    "sns.stripplot(data = train, x = 'cluster3', y = 'log_error')"
   ]
  },
  {
   "cell_type": "code",
   "execution_count": null,
   "id": "c95093dd",
   "metadata": {},
   "outputs": [
    {
     "data": {
      "text/plain": [
       "(array([1.0000e+00, 1.0000e+00, 8.0000e+00, 1.4000e+01, 7.3000e+01,\n",
       "        3.3088e+04, 9.7620e+03, 1.1500e+02, 6.1000e+01, 1.2000e+01]),\n",
       " array([-4.65542037764, -3.8723095432019994, -3.0891987087639996,\n",
       "        -2.306087874326, -1.5229770398879996, -0.7398662054499994,\n",
       "        0.04324462898799997, 0.8263554634260002, 1.6094662978640004,\n",
       "        2.3925771323020006, 3.1756879667400004], dtype=object),\n",
       " <BarContainer object of 10 artists>)"
      ]
     },
     "execution_count": 16,
     "metadata": {},
     "output_type": "execute_result"
    },
    {
     "data": {
      "image/png": "[encoded data removed]",
      "text/plain": [
       "<Figure size 432x288 with 1 Axes>"
      ]
     },
     "metadata": {
      "needs_background": "light"
     },
     "output_type": "display_data"
    }
   ],
   "source": [
    "plt.hist(data = train, x = 'log_error')"
   ]
  },
  {
   "cell_type": "code",
   "execution_count": null,
   "id": "6ab05ae4",
   "metadata": {},
   "outputs": [],
   "source": []
  }
 ],
 "metadata": {
  "kernelspec": {
   "display_name": "Python 3.9.13 ('codeup')",
   "language": "python",
   "name": "python3"
  },
  "language_info": {
   "codemirror_mode": {
    "name": "ipython",
    "version": 3
   },
   "file_extension": ".py",
   "mimetype": "text/x-python",
   "name": "python",
   "nbconvert_exporter": "python",
   "pygments_lexer": "ipython3",
   "version": "3.9.13"
  },
  "vscode": {
   "interpreter": {
    "hash": "653f3b7eb86bda3113d2d1f85ae6ed711e8a2906aba868c97a03afd554718a6e"
   }
  }
 },
 "nbformat": 4,
 "nbformat_minor": 5
}
