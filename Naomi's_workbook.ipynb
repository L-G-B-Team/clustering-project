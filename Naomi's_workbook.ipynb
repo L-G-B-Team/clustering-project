{
 "cells": [
  {
   "cell_type": "code",
   "execution_count": 16,
   "id": "608f6dc9",
   "metadata": {},
   "outputs": [],
   "source": [
    "import wrangle as w\n",
    "import wrangle_Naomi\n",
    "import env\n",
    "\n",
    "import pandas as pd\n",
    "import numpy as np\n",
    "import scipy.stats as stats\n",
    "\n",
    "import seaborn as sns\n",
    "import matplotlib.pyplot as plt\n",
    "from matplotlib import cm\n",
    "\n",
    "from sklearn.model_selection import train_test_split\n",
    "from sklearn.model_selection import learning_curve\n",
    "\n",
    "from sklearn.metrics import mean_squared_error\n",
    "from sklearn.linear_model import LinearRegression, LassoLars, TweedieRegressor\n",
    "from sklearn.preprocessing import PolynomialFeatures\n",
    "from sklearn.cluster import KMeans\n",
    "\n",
    "from importlib import reload\n",
    "%matplotlib inline\n",
    "%config InlineBackend.figure_format = 'retina'"
   ]
  },
  {
   "cell_type": "code",
   "execution_count": 3,
   "id": "adbfc184",
   "metadata": {},
   "outputs": [],
   "source": [
    "reload(w)\n",
    "df = w.wrangle_zillow()"
   ]
  },
  {
   "cell_type": "code",
   "execution_count": 3,
   "id": "c5ca6d76",
   "metadata": {},
   "outputs": [],
   "source": [
    "train, validate, test = w.tvt_split(df)"
   ]
  },
  {
   "cell_type": "code",
   "execution_count": 4,
   "id": "de0de71c",
   "metadata": {},
   "outputs": [
    {
     "name": "stdout",
     "output_type": "stream",
     "text": [
      "train observations:  (43135, 39)\n",
      "validate observations:  (18487, 39)\n",
      "test observations:  (15406, 39)\n"
     ]
    }
   ],
   "source": [
    "print(\"train observations: \", train.shape)\n",
    "print(\"validate observations: \", validate.shape)\n",
    "print(\"test observations: \", test.shape)"
   ]
  },
  {
   "cell_type": "code",
   "execution_count": null,
   "id": "d0aec5bd",
   "metadata": {},
   "outputs": [],
   "source": []
  },
  {
   "cell_type": "markdown",
   "id": "78159e18",
   "metadata": {},
   "source": [
    "# explore"
   ]
  },
  {
   "cell_type": "markdown",
   "id": "0bf3ba3b",
   "metadata": {},
   "source": [
    "### Does having nice outdoor features have a relationship with logerror?"
   ]
  },
  {
   "cell_type": "code",
   "execution_count": 5,
   "id": "d600cf63",
   "metadata": {},
   "outputs": [
    {
     "data": {
      "text/html": [
       "<div>\n",
       "<style scoped>\n",
       "    .dataframe tbody tr th:only-of-type {\n",
       "        vertical-align: middle;\n",
       "    }\n",
       "\n",
       "    .dataframe tbody tr th {\n",
       "        vertical-align: top;\n",
       "    }\n",
       "\n",
       "    .dataframe thead th {\n",
       "        text-align: right;\n",
       "    }\n",
       "</style>\n",
       "<table border=\"1\" class=\"dataframe\">\n",
       "  <thead>\n",
       "    <tr style=\"text-align: right;\">\n",
       "      <th></th>\n",
       "      <th>parcel_id</th>\n",
       "      <th>bath_count</th>\n",
       "      <th>bed_count</th>\n",
       "      <th>calc_bath_and_bed</th>\n",
       "      <th>calc_sqft</th>\n",
       "      <th>finished_sqft12</th>\n",
       "      <th>fips</th>\n",
       "      <th>fireplace_cnt</th>\n",
       "      <th>full_bath_cnt</th>\n",
       "      <th>garage_car_count</th>\n",
       "      <th>...</th>\n",
       "      <th>assessment_year</th>\n",
       "      <th>land_value</th>\n",
       "      <th>tax_amount</th>\n",
       "      <th>census_tract_and_block</th>\n",
       "      <th>log_error</th>\n",
       "      <th>transaction_date</th>\n",
       "      <th>air_conditioning_desc</th>\n",
       "      <th>heating_system_desc</th>\n",
       "      <th>property_land_use_desc</th>\n",
       "      <th>outliers</th>\n",
       "    </tr>\n",
       "  </thead>\n",
       "  <tbody>\n",
       "    <tr>\n",
       "      <th>7025</th>\n",
       "      <td>12894764</td>\n",
       "      <td>3.0</td>\n",
       "      <td>5</td>\n",
       "      <td>3.0</td>\n",
       "      <td>2862</td>\n",
       "      <td>2862</td>\n",
       "      <td>6037</td>\n",
       "      <td>0</td>\n",
       "      <td>3</td>\n",
       "      <td>0</td>\n",
       "      <td>...</td>\n",
       "      <td>2016</td>\n",
       "      <td>106103</td>\n",
       "      <td>5404.0</td>\n",
       "      <td>60650466022009</td>\n",
       "      <td>0.318812</td>\n",
       "      <td>2017-02-01</td>\n",
       "      <td>Central</td>\n",
       "      <td>Central</td>\n",
       "      <td>Planned Unit Development</td>\n",
       "      <td>upper</td>\n",
       "    </tr>\n",
       "    <tr>\n",
       "      <th>68198</th>\n",
       "      <td>12066663</td>\n",
       "      <td>2.0</td>\n",
       "      <td>2</td>\n",
       "      <td>2.0</td>\n",
       "      <td>956</td>\n",
       "      <td>956</td>\n",
       "      <td>6037</td>\n",
       "      <td>0</td>\n",
       "      <td>2</td>\n",
       "      <td>0</td>\n",
       "      <td>...</td>\n",
       "      <td>2016</td>\n",
       "      <td>85837</td>\n",
       "      <td>2349.6</td>\n",
       "      <td>60373019001027</td>\n",
       "      <td>0.024743</td>\n",
       "      <td>2017-08-22</td>\n",
       "      <td>Central</td>\n",
       "      <td>Central</td>\n",
       "      <td>Condominium</td>\n",
       "      <td>lower</td>\n",
       "    </tr>\n",
       "    <tr>\n",
       "      <th>34345</th>\n",
       "      <td>14726680</td>\n",
       "      <td>2.0</td>\n",
       "      <td>2</td>\n",
       "      <td>2.0</td>\n",
       "      <td>1530</td>\n",
       "      <td>1530</td>\n",
       "      <td>6059</td>\n",
       "      <td>0</td>\n",
       "      <td>2</td>\n",
       "      <td>2</td>\n",
       "      <td>...</td>\n",
       "      <td>2016</td>\n",
       "      <td>190961</td>\n",
       "      <td>3622.1</td>\n",
       "      <td>60590219162007</td>\n",
       "      <td>-0.016291</td>\n",
       "      <td>2017-05-10</td>\n",
       "      <td>&lt;NA&gt;</td>\n",
       "      <td>&lt;NA&gt;</td>\n",
       "      <td>Condominium</td>\n",
       "      <td>lower</td>\n",
       "    </tr>\n",
       "    <tr>\n",
       "      <th>24333</th>\n",
       "      <td>12499632</td>\n",
       "      <td>1.0</td>\n",
       "      <td>3</td>\n",
       "      <td>1.0</td>\n",
       "      <td>990</td>\n",
       "      <td>990</td>\n",
       "      <td>6037</td>\n",
       "      <td>0</td>\n",
       "      <td>1</td>\n",
       "      <td>0</td>\n",
       "      <td>...</td>\n",
       "      <td>2016</td>\n",
       "      <td>216451</td>\n",
       "      <td>3650.76</td>\n",
       "      <td>60375722014021</td>\n",
       "      <td>-0.036821</td>\n",
       "      <td>2017-04-07</td>\n",
       "      <td>&lt;NA&gt;</td>\n",
       "      <td>Floor/Wall</td>\n",
       "      <td>Single Family Residential</td>\n",
       "      <td>lower</td>\n",
       "    </tr>\n",
       "    <tr>\n",
       "      <th>49881</th>\n",
       "      <td>14011102</td>\n",
       "      <td>1.5</td>\n",
       "      <td>2</td>\n",
       "      <td>1.5</td>\n",
       "      <td>1110</td>\n",
       "      <td>1110</td>\n",
       "      <td>6059</td>\n",
       "      <td>0</td>\n",
       "      <td>1</td>\n",
       "      <td>0</td>\n",
       "      <td>...</td>\n",
       "      <td>2016</td>\n",
       "      <td>76580</td>\n",
       "      <td>1994.28</td>\n",
       "      <td>60591101093000</td>\n",
       "      <td>-0.024844</td>\n",
       "      <td>2017-06-26</td>\n",
       "      <td>&lt;NA&gt;</td>\n",
       "      <td>&lt;NA&gt;</td>\n",
       "      <td>Single Family Residential</td>\n",
       "      <td>lower</td>\n",
       "    </tr>\n",
       "  </tbody>\n",
       "</table>\n",
       "<p>5 rows × 39 columns</p>\n",
       "</div>"
      ],
      "text/plain": [
       "       parcel_id  bath_count  bed_count  calc_bath_and_bed  calc_sqft  \\\n",
       "7025    12894764         3.0          5                3.0       2862   \n",
       "68198   12066663         2.0          2                2.0        956   \n",
       "34345   14726680         2.0          2                2.0       1530   \n",
       "24333   12499632         1.0          3                1.0        990   \n",
       "49881   14011102         1.5          2                1.5       1110   \n",
       "\n",
       "       finished_sqft12  fips  fireplace_cnt  full_bath_cnt  garage_car_count  \\\n",
       "7025              2862  6037              0              3                 0   \n",
       "68198              956  6037              0              2                 0   \n",
       "34345             1530  6059              0              2                 2   \n",
       "24333              990  6037              0              1                 0   \n",
       "49881             1110  6059              0              1                 0   \n",
       "\n",
       "       ...  assessment_year  land_value  tax_amount  census_tract_and_block  \\\n",
       "7025   ...             2016      106103      5404.0          60650466022009   \n",
       "68198  ...             2016       85837      2349.6          60373019001027   \n",
       "34345  ...             2016      190961      3622.1          60590219162007   \n",
       "24333  ...             2016      216451     3650.76          60375722014021   \n",
       "49881  ...             2016       76580     1994.28          60591101093000   \n",
       "\n",
       "       log_error transaction_date air_conditioning_desc  heating_system_desc  \\\n",
       "7025    0.318812       2017-02-01               Central              Central   \n",
       "68198   0.024743       2017-08-22               Central              Central   \n",
       "34345  -0.016291       2017-05-10                  <NA>                 <NA>   \n",
       "24333  -0.036821       2017-04-07                  <NA>           Floor/Wall   \n",
       "49881  -0.024844       2017-06-26                  <NA>                 <NA>   \n",
       "\n",
       "          property_land_use_desc  outliers  \n",
       "7025    Planned Unit Development     upper  \n",
       "68198                Condominium     lower  \n",
       "34345                Condominium     lower  \n",
       "24333  Single Family Residential     lower  \n",
       "49881  Single Family Residential     lower  \n",
       "\n",
       "[5 rows x 39 columns]"
      ]
     },
     "execution_count": 5,
     "metadata": {},
     "output_type": "execute_result"
    }
   ],
   "source": [
    "train.head()"
   ]
  },
  {
   "cell_type": "code",
   "execution_count": null,
   "id": "0befb22c",
   "metadata": {},
   "outputs": [],
   "source": []
  },
  {
   "cell_type": "code",
   "execution_count": null,
   "id": "5e7bcb1c",
   "metadata": {},
   "outputs": [],
   "source": []
  },
  {
   "cell_type": "code",
   "execution_count": 6,
   "id": "760b7ea1",
   "metadata": {},
   "outputs": [],
   "source": [
    "X3 = train[['garage_car_count', 'pool_count', 'lot_sqft']]"
   ]
  },
  {
   "cell_type": "code",
   "execution_count": 7,
   "id": "6a4dfb16",
   "metadata": {},
   "outputs": [
    {
     "data": {
      "text/plain": [
       "(43135, 39)"
      ]
     },
     "execution_count": 7,
     "metadata": {},
     "output_type": "execute_result"
    }
   ],
   "source": [
    "train.shape"
   ]
  },
  {
   "cell_type": "code",
   "execution_count": 8,
   "id": "89378465",
   "metadata": {
    "scrolled": true
   },
   "outputs": [
    {
     "name": "stdout",
     "output_type": "stream",
     "text": [
      "<class 'pandas.core.frame.DataFrame'>\n",
      "Int64Index: 43135 entries, 7025 to 13356\n",
      "Data columns (total 3 columns):\n",
      " #   Column            Non-Null Count  Dtype\n",
      "---  ------            --------------  -----\n",
      " 0   garage_car_count  43135 non-null  Int64\n",
      " 1   pool_count        43135 non-null  Int64\n",
      " 2   lot_sqft          43135 non-null  Int64\n",
      "dtypes: Int64(3)\n",
      "memory usage: 1.4 MB\n"
     ]
    }
   ],
   "source": [
    "X3.info()"
   ]
  },
  {
   "cell_type": "code",
   "execution_count": 9,
   "id": "93e4c739",
   "metadata": {},
   "outputs": [],
   "source": [
    "kmeans = KMeans(n_clusters = 4).fit(X3)\n",
    "train['cluster3'] = kmeans.predict(X3)"
   ]
  },
  {
   "cell_type": "code",
   "execution_count": 10,
   "id": "825bc0bb",
   "metadata": {},
   "outputs": [
    {
     "data": {
      "image/png": "[encoded data removed]",
      "text/plain": [
       "<Figure size 900x600 with 1 Axes>"
      ]
     },
     "metadata": {},
     "output_type": "display_data"
    }
   ],
   "source": [
    "with plt.style.context('seaborn-whitegrid'):\n",
    "    plt.figure(figsize=(9, 6))\n",
    "    pd.Series({k: KMeans(k).fit(X3).inertia_ for k in range(2, 12)}).plot(marker='x')\n",
    "    plt.xticks(range(2, 12))\n",
    "    plt.xlabel('k')\n",
    "    plt.ylabel('inertia')\n",
    "    plt.title('Change in inertia as k increases')"
   ]
  },
  {
   "cell_type": "code",
   "execution_count": 11,
   "id": "4f2dd603",
   "metadata": {},
   "outputs": [
    {
     "name": "stderr",
     "output_type": "stream",
     "text": [
      "/var/folders/h3/mf3_948d1xn0mgz6l997fvlw0000gn/T/ipykernel_42533/887977046.py:1: FutureWarning: Indexing with multiple keys (implicitly converted to a tuple of keys) will be deprecated, use a list instead.\n",
      "  train.groupby('cluster3')['garage_car_count', 'pool_count', 'lot_sqft'].mean()\n"
     ]
    },
    {
     "data": {
      "text/html": [
       "<div>\n",
       "<style scoped>\n",
       "    .dataframe tbody tr th:only-of-type {\n",
       "        vertical-align: middle;\n",
       "    }\n",
       "\n",
       "    .dataframe tbody tr th {\n",
       "        vertical-align: top;\n",
       "    }\n",
       "\n",
       "    .dataframe thead th {\n",
       "        text-align: right;\n",
       "    }\n",
       "</style>\n",
       "<table border=\"1\" class=\"dataframe\">\n",
       "  <thead>\n",
       "    <tr style=\"text-align: right;\">\n",
       "      <th></th>\n",
       "      <th>garage_car_count</th>\n",
       "      <th>pool_count</th>\n",
       "      <th>lot_sqft</th>\n",
       "    </tr>\n",
       "    <tr>\n",
       "      <th>cluster3</th>\n",
       "      <th></th>\n",
       "      <th></th>\n",
       "      <th></th>\n",
       "    </tr>\n",
       "  </thead>\n",
       "  <tbody>\n",
       "    <tr>\n",
       "      <th>0</th>\n",
       "      <td>0.62176</td>\n",
       "      <td>0.197689</td>\n",
       "      <td>12337.205464</td>\n",
       "    </tr>\n",
       "    <tr>\n",
       "      <th>1</th>\n",
       "      <td>0.0</td>\n",
       "      <td>0.0</td>\n",
       "      <td>6971010.0</td>\n",
       "    </tr>\n",
       "    <tr>\n",
       "      <th>2</th>\n",
       "      <td>0.025947</td>\n",
       "      <td>0.516129</td>\n",
       "      <td>301184.345722</td>\n",
       "    </tr>\n",
       "    <tr>\n",
       "      <th>3</th>\n",
       "      <td>0.0</td>\n",
       "      <td>0.4</td>\n",
       "      <td>1078915.9625</td>\n",
       "    </tr>\n",
       "  </tbody>\n",
       "</table>\n",
       "</div>"
      ],
      "text/plain": [
       "          garage_car_count  pool_count       lot_sqft\n",
       "cluster3                                             \n",
       "0                  0.62176    0.197689   12337.205464\n",
       "1                      0.0         0.0      6971010.0\n",
       "2                 0.025947    0.516129  301184.345722\n",
       "3                      0.0         0.4   1078915.9625"
      ]
     },
     "execution_count": 11,
     "metadata": {},
     "output_type": "execute_result"
    }
   ],
   "source": [
    "train.groupby('cluster3')['garage_car_count', 'pool_count', 'lot_sqft'].mean()"
   ]
  },
  {
   "cell_type": "code",
   "execution_count": 12,
   "id": "c510282f",
   "metadata": {},
   "outputs": [
    {
     "data": {
      "text/plain": [
       "<AxesSubplot:xlabel='cluster3', ylabel='log_error'>"
      ]
     },
     "execution_count": 12,
     "metadata": {},
     "output_type": "execute_result"
    },
    {
     "data": {
      "image/png": "[encoded data removed]",
      "text/plain": [
       "<Figure size 432x288 with 1 Axes>"
      ]
     },
     "metadata": {
      "needs_background": "light"
     },
     "output_type": "display_data"
    }
   ],
   "source": [
    "sns.stripplot(data = train, x = 'cluster3', y = 'log_error')"
   ]
  },
  {
   "cell_type": "code",
   "execution_count": 13,
   "id": "a7befbf1",
   "metadata": {},
   "outputs": [],
   "source": [
    "alpha = 0.5"
   ]
  },
  {
   "cell_type": "code",
   "execution_count": 14,
   "id": "aba519ce",
   "metadata": {},
   "outputs": [
    {
     "ename": "AttributeError",
     "evalue": "module 'wrangle' has no attribute 'scaled'",
     "output_type": "error",
     "traceback": [
      "\u001b[0;31m---------------------------------------------------------------------------\u001b[0m",
      "\u001b[0;31mAttributeError\u001b[0m                            Traceback (most recent call last)",
      "Input \u001b[0;32mIn [14]\u001b[0m, in \u001b[0;36m<cell line: 1>\u001b[0;34m()\u001b[0m\n\u001b[0;32m----> 1\u001b[0m df_scaled \u001b[38;5;241m=\u001b[39m \u001b[43mw\u001b[49m\u001b[38;5;241;43m.\u001b[39;49m\u001b[43mscaled\u001b[49m(\u001b[38;5;124m'\u001b[39m\u001b[38;5;124mgarage_car_count, pool_count, lot_sqft\u001b[39m\u001b[38;5;124m'\u001b[39m)\n",
      "\u001b[0;31mAttributeError\u001b[0m: module 'wrangle' has no attribute 'scaled'"
     ]
    }
   ],
   "source": [
    "df_scaled = w.scaled('garage_car_count, pool_count, lot_sqft')\n"
   ]
  },
  {
   "cell_type": "code",
   "execution_count": null,
   "id": "bee64ff0",
   "metadata": {},
   "outputs": [],
   "source": []
  }
 ],
 "metadata": {
  "kernelspec": {
   "display_name": "Python 3.9.13 ('codeup')",
   "language": "python",
   "name": "python3"
  },
  "language_info": {
   "codemirror_mode": {
    "name": "ipython",
    "version": 3
   },
   "file_extension": ".py",
   "mimetype": "text/x-python",
   "name": "python",
   "nbconvert_exporter": "python",
   "pygments_lexer": "ipython3",
   "version": "3.9.13"
  },
  "vscode": {
   "interpreter": {
    "hash": "653f3b7eb86bda3113d2d1f85ae6ed711e8a2906aba868c97a03afd554718a6e"
   }
  }
 },
 "nbformat": 4,
 "nbformat_minor": 5
}
