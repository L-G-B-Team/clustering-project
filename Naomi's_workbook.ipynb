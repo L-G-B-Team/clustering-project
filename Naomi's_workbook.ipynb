{
 "cells": [
  {
   "cell_type": "code",
   "execution_count": 1,
   "id": "608f6dc9",
   "metadata": {},
   "outputs": [],
   "source": [
    "import wrangle_woody\n",
    "import wrangle_Naomi\n",
    "\n",
    "\n",
    "import env\n",
    "from sklearn.model_selection import train_test_split\n",
    "import pandas as pd\n",
    "import numpy as np\n",
    "import scipy.stats as stats\n",
    "import seaborn as sns\n",
    "import matplotlib.pyplot as plt\n",
    "from matplotlib import cm\n",
    "from sklearn.model_selection import learning_curve"
   ]
  },
  {
   "cell_type": "code",
   "execution_count": 7,
   "id": "adbfc184",
   "metadata": {},
   "outputs": [],
   "source": [
    "df = wrangle_woody.wrangle_zillow()"
   ]
  },
  {
   "cell_type": "code",
   "execution_count": 8,
   "id": "13c43f06",
   "metadata": {},
   "outputs": [
    {
     "data": {
      "text/plain": [
       "Index(['typeconstructiontypeid', 'storytypeid', 'propertylandusetypeid',\n",
       "       'heatingorsystemtypeid', 'buildingclasstypeid',\n",
       "       'architecturalstyletypeid', 'airconditioningtypeid', 'parcelid', 'id',\n",
       "       'basementsqft', 'bathroomcnt', 'bedroomcnt', 'buildingqualitytypeid',\n",
       "       'calculatedbathnbr', 'decktypeid', 'finishedfloor1squarefeet',\n",
       "       'calculatedfinishedsquarefeet', 'finishedsquarefeet12',\n",
       "       'finishedsquarefeet13', 'finishedsquarefeet15', 'finishedsquarefeet50',\n",
       "       'finishedsquarefeet6', 'fips', 'fireplacecnt', 'fullbathcnt',\n",
       "       'garagecarcnt', 'garagetotalsqft', 'hashottuborspa', 'latitude',\n",
       "       'longitude', 'lotsizesquarefeet', 'poolcnt', 'poolsizesum',\n",
       "       'pooltypeid10', 'pooltypeid2', 'pooltypeid7',\n",
       "       'propertycountylandusecode', 'propertyzoningdesc',\n",
       "       'rawcensustractandblock', 'regionidcity', 'regionidcounty',\n",
       "       'regionidneighborhood', 'regionidzip', 'roomcnt', 'threequarterbathnbr',\n",
       "       'unitcnt', 'yardbuildingsqft17', 'yardbuildingsqft26', 'yearbuilt',\n",
       "       'numberofstories', 'fireplaceflag', 'structuretaxvaluedollarcnt',\n",
       "       'taxvaluedollarcnt', 'assessmentyear', 'landtaxvaluedollarcnt',\n",
       "       'taxamount', 'taxdelinquencyflag', 'taxdelinquencyyear',\n",
       "       'censustractandblock', 'id.1', 'logerror', 'transactiondate',\n",
       "       'airconditioningdesc', 'architecturalstyledesc', 'buildingclassdesc',\n",
       "       'heatingorsystemdesc', 'propertylandusedesc', 'storydesc',\n",
       "       'typeconstructiondesc'],\n",
       "      dtype='object')"
      ]
     },
     "execution_count": 8,
     "metadata": {},
     "output_type": "execute_result"
    }
   ],
   "source": [
    "df.columns"
   ]
  },
  {
   "cell_type": "code",
   "execution_count": 9,
   "id": "5c3bd276",
   "metadata": {},
   "outputs": [],
   "source": [
    "df = wrangle_woody.prep_zillow(df)"
   ]
  },
  {
   "cell_type": "code",
   "execution_count": 10,
   "id": "c5ca6d76",
   "metadata": {},
   "outputs": [],
   "source": [
    "train, validate, test = wrangle_woody.tvt_split(df)"
   ]
  },
  {
   "cell_type": "markdown",
   "id": "a4529b88",
   "metadata": {},
   "source": [
    "# explore"
   ]
  },
  {
   "cell_type": "code",
   "execution_count": null,
   "id": "760b7ea1",
   "metadata": {},
   "outputs": [],
   "source": []
  }
 ],
 "metadata": {
  "kernelspec": {
   "display_name": "Python 3 (ipykernel)",
   "language": "python",
   "name": "python3"
  },
  "language_info": {
   "codemirror_mode": {
    "name": "ipython",
    "version": 3
   },
   "file_extension": ".py",
   "mimetype": "text/x-python",
   "name": "python",
   "nbconvert_exporter": "python",
   "pygments_lexer": "ipython3",
   "version": "3.9.12"
  }
 },
 "nbformat": 4,
 "nbformat_minor": 5
}
