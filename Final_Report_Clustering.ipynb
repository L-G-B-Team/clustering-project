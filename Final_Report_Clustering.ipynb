{
 "cells": [
  {
   "cell_type": "markdown",
   "id": "348d3242",
   "metadata": {},
   "source": [
    "# THE PLAN"
   ]
  },
  {
   "cell_type": "markdown",
   "id": "163adc42",
   "metadata": {},
   "source": [
    "## 1. ask questions\n",
    "#### Two for Naomi, Two for Woody\n",
    "\n",
    "## 2. Create Visualizations\n",
    "#### 5 ugly to answer the questions: Woody\n",
    "#### 2 nice viz to answer Naomi's questions: Naomi\n",
    "#### 2 nice Viz to answer Woody's questions: Woody\n",
    "#### 1 nice viz for general data: Naomi\n",
    "\n",
    "## 3. Run Stat Test \n",
    "#### 1 stat test to answer Woody question: Woody\n",
    "#### 1 stat test to answer Naomi question: Naomi\n",
    "\n",
    "## 4. Wrap it all in Markdown\n",
    "### Naomi's whole job"
   ]
  },
  {
   "cell_type": "markdown",
   "id": "c2eb6f63",
   "metadata": {},
   "source": [
    "## QUESTIONS: \n",
    "#### Naomi's human eyeballs question : how does clustering valuable out-door features arrange the data? Is the data evenly distributed between the clusters?\n",
    "#### Naomi's computer brain question: Does the clustering algorithnm identify features that consistnely have logerror close to zero?\n",
    "\n",
    "#### Woody question 1: Does clustering the cluster of tax_value and calc_sqft have a closer RMSE to logerror than baseline?\n",
    "#### Woody question 2: ?????\n",
    "\n"
   ]
  },
  {
   "cell_type": "markdown",
   "id": "d3c25ef4",
   "metadata": {},
   "source": [
    "# Welcome to our Project!"
   ]
  },
  {
   "cell_type": "markdown",
   "id": "1f81e533",
   "metadata": {},
   "source": [
    "### Goal of This Project: \n",
    "- To predict logerror"
   ]
  },
  {
   "cell_type": "markdown",
   "id": "4b99c2fd",
   "metadata": {},
   "source": []
  },
  {
   "cell_type": "markdown",
   "id": "a11443fe",
   "metadata": {},
   "source": []
  },
  {
   "cell_type": "markdown",
   "id": "f0e17715",
   "metadata": {},
   "source": []
  },
  {
   "cell_type": "markdown",
   "id": "4de4f699",
   "metadata": {},
   "source": []
  }
 ],
 "metadata": {
  "kernelspec": {
   "display_name": "Python 3.9.13 ('codeup')",
   "language": "python",
   "name": "python3"
  },
  "language_info": {
   "codemirror_mode": {
    "name": "ipython",
    "version": 3
   },
   "file_extension": ".py",
   "mimetype": "text/x-python",
   "name": "python",
   "nbconvert_exporter": "python",
   "pygments_lexer": "ipython3",
   "version": "3.9.13"
  },
  "vscode": {
   "interpreter": {
    "hash": "653f3b7eb86bda3113d2d1f85ae6ed711e8a2906aba868c97a03afd554718a6e"
   }
  }
 },
 "nbformat": 4,
 "nbformat_minor": 5
}
