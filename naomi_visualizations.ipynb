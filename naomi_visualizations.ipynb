{
 "cells": [
  {
   "cell_type": "code",
   "execution_count": 1,
   "id": "a510baa0",
   "metadata": {},
   "outputs": [],
   "source": [
    "import wrangle as w\n",
    "import wrangle_Naomi\n",
    "import env\n",
    "\n",
    "import pandas as pd\n",
    "import numpy as np\n",
    "import scipy.stats as stats\n",
    "\n",
    "import seaborn as sns\n",
    "import matplotlib.pyplot as plt\n",
    "from matplotlib import cm\n",
    "\n",
    "from sklearn.model_selection import train_test_split\n",
    "from sklearn.model_selection import learning_curve\n",
    "\n",
    "from sklearn.metrics import mean_squared_error\n",
    "from sklearn.linear_model import LinearRegression, LassoLars, TweedieRegressor\n",
    "from sklearn.preprocessing import PolynomialFeatures\n",
    "from sklearn.cluster import KMeans\n",
    "\n",
    "from importlib import reload"
   ]
  },
  {
   "cell_type": "code",
   "execution_count": 2,
   "id": "c24e03eb",
   "metadata": {},
   "outputs": [],
   "source": [
    "reload(w)\n",
    "df = w.wrangle_zillow()"
   ]
  },
  {
   "cell_type": "code",
   "execution_count": 3,
   "id": "bbd6c14c",
   "metadata": {},
   "outputs": [],
   "source": [
    "train, validate, test = w.tvt_split(df)"
   ]
  },
  {
   "cell_type": "code",
   "execution_count": 4,
   "id": "6854c076",
   "metadata": {},
   "outputs": [],
   "source": [
    "X3 = train[['garage_car_count', 'pool_count', 'lot_sqft']]"
   ]
  },
  {
   "cell_type": "code",
   "execution_count": 5,
   "id": "d6e32ac1",
   "metadata": {},
   "outputs": [],
   "source": [
    "kmeans = KMeans(n_clusters = 4).fit(X3)\n",
    "train['cluster3'] = kmeans.predict(X3)"
   ]
  },
  {
   "cell_type": "code",
   "execution_count": null,
   "id": "661d818c",
   "metadata": {},
   "outputs": [],
   "source": [
    "sns.set_style('whitegrid')\n",
    "ax = sns.swarmplot(x='cluster3', y='log_error', data = train)\n",
    "ax = sns.boxplot(x='cluster3', y='log_error', data= train,\n",
    "                showcaps=False, boxdrops={'facecolor':'None'},\n",
    "                showfliers=False, whisderprops={'linewidth':0})\n",
    "\n",
    "plt.show()"
   ]
  },
  {
   "cell_type": "code",
   "execution_count": null,
   "id": "b94b7159",
   "metadata": {},
   "outputs": [],
   "source": []
  }
 ],
 "metadata": {
  "kernelspec": {
   "display_name": "Python 3 (ipykernel)",
   "language": "python",
   "name": "python3"
  },
  "language_info": {
   "codemirror_mode": {
    "name": "ipython",
    "version": 3
   },
   "file_extension": ".py",
   "mimetype": "text/x-python",
   "name": "python",
   "nbconvert_exporter": "python",
   "pygments_lexer": "ipython3",
   "version": "3.9.12"
  }
 },
 "nbformat": 4,
 "nbformat_minor": 5
}
