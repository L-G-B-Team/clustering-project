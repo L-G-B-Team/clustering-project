{
 "cells": [
  {
   "cell_type": "code",
   "execution_count": null,
   "metadata": {},
   "outputs": [],
   "source": [
    "import numpy as np\n",
    "import pandas as pd\n",
    "import seaborn as sns\n",
    "import matplotlib.pyplot as plt\n",
    "import explore as e\n",
    "from importlib import reload\n",
    "import wrangle as w\n",
    "%matplotlib inline\n",
    "%config InlineBackend.figure_format = 'retina'\n",
    "from sklearn.cluster import KMeans"
   ]
  },
  {
   "cell_type": "code",
   "execution_count": null,
   "metadata": {},
   "outputs": [],
   "source": [
    "reload(w)\n",
    "df = w.wrangle_zillow(prop_row=.75,prop_col=.5,outlier_k=.0625)\n",
    "df.groupby('outliers').agg('count')\n",
    "df = df.dropna(subset=['calc_sqft','tax_value'])\n",
    "train, validate, test = w.tvt_split(df)\n",
    "train.shape\n",
    "# train.to_csv('data/prepared_zillow.csv')"
   ]
  },
  {
   "cell_type": "markdown",
   "metadata": {},
   "source": []
  },
  {
   "cell_type": "code",
   "execution_count": null,
   "metadata": {},
   "outputs": [],
   "source": [
    "\n",
    "sns.relplot(data=train.sort_values(by='fips'), x='calc_sqft', y='log_error',hue='tax_value')"
   ]
  },
  {
   "cell_type": "code",
   "execution_count": null,
   "metadata": {},
   "outputs": [],
   "source": []
  },
  {
   "cell_type": "code",
   "execution_count": null,
   "metadata": {},
   "outputs": [],
   "source": [
    "e.generate_elbow(train[['tax_value','calc_sqft']].dropna())"
   ]
  },
  {
   "cell_type": "code",
   "execution_count": null,
   "metadata": {},
   "outputs": [],
   "source": []
  },
  {
   "cell_type": "code",
   "execution_count": null,
   "metadata": {},
   "outputs": [],
   "source": [
    "reload(e)\n",
    "lower_tudes = w.scale(train,['calc_sqft','latitude','longitude'])\n",
    "e.generate_elbow(lower_tudes,k_min=1,k_max=30)\n",
    "train.bound_group.value_counts()"
   ]
  },
  {
   "cell_type": "code",
   "execution_count": null,
   "metadata": {},
   "outputs": [],
   "source": [
    "lower_tudes = w.scale(train,['calc_sqft','tax_value'])\n",
    "lower_tudes['calc_sqft'] = train['calc_sqft']\n",
    "lower_tudes['tax_value'] = train['tax_value']\n",
    "kmeans = KMeans(8)\n",
    "kmeans.fit(lower_tudes)\n",
    "lower_tudes['tude_cluster'] = kmeans.predict(lower_tudes)\n",
    "lower_tudes['log_error'] = train.log_error\n",
    "lower_tudes['outliers'] = train.outliers\n",
    "sns.kdeplot(data=lower_tudes, x='log_error',hue='tude_cluster',common_grid=False)\n",
    "lower_tudes.tude_cluster.value_counts()"
   ]
  },
  {
   "cell_type": "code",
   "execution_count": null,
   "metadata": {},
   "outputs": [],
   "source": []
  },
  {
   "cell_type": "code",
   "execution_count": null,
   "metadata": {},
   "outputs": [],
   "source": [
    "reload(e)\n",
    "bound = .5\n",
    "e.viz_for_Q3(train)"
   ]
  },
  {
   "cell_type": "code",
   "execution_count": null,
   "metadata": {},
   "outputs": [],
   "source": [
    "lower_tudes.groupby('tude_cluster').agg('mean').log_error"
   ]
  },
  {
   "cell_type": "code",
   "execution_count": 20,
   "metadata": {},
   "outputs": [
    {
     "data": {
      "text/plain": [
       "<module 'explore' from '/Users/woody/codeup-data-science/clustering-project/explore.py'>"
      ]
     },
     "execution_count": 20,
     "metadata": {},
     "output_type": "execute_result"
    }
   ],
   "source": [
    "reload(e)\n"
   ]
  }
 ],
 "metadata": {
  "kernelspec": {
   "display_name": "Python 3.9.13 ('codeup')",
   "language": "python",
   "name": "python3"
  },
  "language_info": {
   "codemirror_mode": {
    "name": "ipython",
    "version": 3
   },
   "file_extension": ".py",
   "mimetype": "text/x-python",
   "name": "python",
   "nbconvert_exporter": "python",
   "pygments_lexer": "ipython3",
   "version": "3.9.13"
  },
  "orig_nbformat": 4,
  "vscode": {
   "interpreter": {
    "hash": "653f3b7eb86bda3113d2d1f85ae6ed711e8a2906aba868c97a03afd554718a6e"
   }
  }
 },
 "nbformat": 4,
 "nbformat_minor": 2
}
