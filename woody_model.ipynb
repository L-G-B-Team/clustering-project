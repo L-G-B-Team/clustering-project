{
 "cells": [
  {
   "cell_type": "code",
   "execution_count": 19,
   "metadata": {},
   "outputs": [],
   "source": [
    "import model as m\n",
    "import wrangle as w\n",
    "from importlib import reload"
   ]
  },
  {
   "cell_type": "code",
   "execution_count": 20,
   "metadata": {},
   "outputs": [],
   "source": [
    "train,validate,test = w.tvt_split(w.wrangle_zillow())"
   ]
  },
  {
   "cell_type": "code",
   "execution_count": 21,
   "metadata": {},
   "outputs": [
    {
     "data": {
      "text/markdown": [
       "|                 |     SSE |       MSE |     RMSE |\n",
       "|:----------------|--------:|----------:|---------:|\n",
       "| Mean Baseline   | 1285.55 | 0.0296687 | 0.172246 |\n",
       "| Median Baseline | 1289.55 | 0.0297612 | 0.172514 |\n",
       "### Because mean outperformed median on all metrics,         we will use mean as our baseline"
      ],
      "text/plain": [
       "<IPython.core.display.Markdown object>"
      ]
     },
     "execution_count": 21,
     "metadata": {},
     "output_type": "execute_result"
    }
   ],
   "source": [
    "reload(m)\n",
    "m.select_baseline(train.log_error)"
   ]
  },
  {
   "cell_type": "code",
   "execution_count": null,
   "metadata": {},
   "outputs": [],
   "source": [
    "scaled_train = w.scale(train,['tax_value','calc_sqft','latitude','longitude'])\n"
   ]
  },
  {
   "cell_type": "code",
   "execution_count": 26,
   "metadata": {},
   "outputs": [
    {
     "data": {
      "text/html": [
       "<div>\n",
       "<style scoped>\n",
       "    .dataframe tbody tr th:only-of-type {\n",
       "        vertical-align: middle;\n",
       "    }\n",
       "\n",
       "    .dataframe tbody tr th {\n",
       "        vertical-align: top;\n",
       "    }\n",
       "\n",
       "    .dataframe thead th {\n",
       "        text-align: right;\n",
       "    }\n",
       "</style>\n",
       "<table border=\"1\" class=\"dataframe\">\n",
       "  <thead>\n",
       "    <tr style=\"text-align: right;\">\n",
       "      <th></th>\n",
       "      <th>latitude</th>\n",
       "      <th>longitude</th>\n",
       "      <th>tax_value</th>\n",
       "      <th>calc_sqft</th>\n",
       "      <th>bed_count</th>\n",
       "      <th>bath_count</th>\n",
       "      <th>cluster_fuck</th>\n",
       "    </tr>\n",
       "  </thead>\n",
       "  <tbody>\n",
       "    <tr>\n",
       "      <th>0</th>\n",
       "      <td>0.510506</td>\n",
       "      <td>0.566378</td>\n",
       "      <td>0.091173</td>\n",
       "      <td>0.161749</td>\n",
       "      <td>0.230769</td>\n",
       "      <td>0.307692</td>\n",
       "      <td>1</td>\n",
       "    </tr>\n",
       "    <tr>\n",
       "      <th>1</th>\n",
       "      <td>0.324810</td>\n",
       "      <td>0.581644</td>\n",
       "      <td>0.021825</td>\n",
       "      <td>0.064572</td>\n",
       "      <td>0.230769</td>\n",
       "      <td>0.153846</td>\n",
       "      <td>0</td>\n",
       "    </tr>\n",
       "    <tr>\n",
       "      <th>2</th>\n",
       "      <td>0.437152</td>\n",
       "      <td>0.530325</td>\n",
       "      <td>0.014566</td>\n",
       "      <td>0.113959</td>\n",
       "      <td>0.384615</td>\n",
       "      <td>0.230769</td>\n",
       "      <td>0</td>\n",
       "    </tr>\n",
       "    <tr>\n",
       "      <th>3</th>\n",
       "      <td>0.340490</td>\n",
       "      <td>0.798208</td>\n",
       "      <td>0.010509</td>\n",
       "      <td>0.040859</td>\n",
       "      <td>0.153846</td>\n",
       "      <td>0.076923</td>\n",
       "      <td>4</td>\n",
       "    </tr>\n",
       "    <tr>\n",
       "      <th>4</th>\n",
       "      <td>0.828758</td>\n",
       "      <td>0.728853</td>\n",
       "      <td>0.003325</td>\n",
       "      <td>0.065302</td>\n",
       "      <td>0.230769</td>\n",
       "      <td>0.153846</td>\n",
       "      <td>0</td>\n",
       "    </tr>\n",
       "  </tbody>\n",
       "</table>\n",
       "</div>"
      ],
      "text/plain": [
       "   latitude  longitude  tax_value  calc_sqft  bed_count  bath_count  \\\n",
       "0  0.510506   0.566378   0.091173   0.161749   0.230769    0.307692   \n",
       "1  0.324810   0.581644   0.021825   0.064572   0.230769    0.153846   \n",
       "2  0.437152   0.530325   0.014566   0.113959   0.384615    0.230769   \n",
       "3  0.340490   0.798208   0.010509   0.040859   0.153846    0.076923   \n",
       "4  0.828758   0.728853   0.003325   0.065302   0.230769    0.153846   \n",
       "\n",
       "   cluster_fuck  \n",
       "0             1  \n",
       "1             0  \n",
       "2             0  \n",
       "3             4  \n",
       "4             0  "
      ]
     },
     "execution_count": 26,
     "metadata": {},
     "output_type": "execute_result"
    }
   ],
   "source": [
    "reload(m)\n",
    "clustered_scaled,scaler,clusterer = m.scale_and_cluster(train,['latitude','longitude','tax_value','calc_sqft','bed_count','bath_count'],cluster_cols=['tax_value','calc_sqft','latitude','longitude'],cluster_name='cluster_fuck',target=train.log_error,k=7)\n",
    "m.apply_to_clusters(features=clustered_scaled,target=clustered_scaled.log_error,cluster_col='cluster_fuck',)"
   ]
  }
 ],
 "metadata": {
  "kernelspec": {
   "display_name": "Python 3.9.13 ('codeup')",
   "language": "python",
   "name": "python3"
  },
  "language_info": {
   "codemirror_mode": {
    "name": "ipython",
    "version": 3
   },
   "file_extension": ".py",
   "mimetype": "text/x-python",
   "name": "python",
   "nbconvert_exporter": "python",
   "pygments_lexer": "ipython3",
   "version": "3.9.13"
  },
  "orig_nbformat": 4,
  "vscode": {
   "interpreter": {
    "hash": "653f3b7eb86bda3113d2d1f85ae6ed711e8a2906aba868c97a03afd554718a6e"
   }
  }
 },
 "nbformat": 4,
 "nbformat_minor": 2
}
