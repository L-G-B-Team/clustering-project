{
 "cells": [
  {
   "cell_type": "code",
   "execution_count": 1,
   "metadata": {},
   "outputs": [],
   "source": [
    "import model as m\n",
    "import wrangle as w\n",
    "from importlib import reload\n",
    "from sklearn.linear_model import LinearRegression\n",
    "import warnings\n",
    "warnings.simplefilter('ignore')"
   ]
  },
  {
   "cell_type": "code",
   "execution_count": 2,
   "metadata": {},
   "outputs": [],
   "source": [
    "train,validate,test = w.tvt_split(w.wrangle_zillow())"
   ]
  },
  {
   "cell_type": "code",
   "execution_count": 3,
   "metadata": {},
   "outputs": [
    {
     "data": {
      "text/markdown": [
       "|                 |     SSE |       MSE |     RMSE |\n",
       "|:----------------|--------:|----------:|---------:|\n",
       "| Mean Baseline   | 1285.55 | 0.0296687 | 0.172246 |\n",
       "| Median Baseline | 1289.55 | 0.0297612 | 0.172514 |\n",
       "### Because mean outperformed median on all metrics,         we will use mean as our baseline"
      ],
      "text/plain": [
       "<IPython.core.display.Markdown object>"
      ]
     },
     "execution_count": 3,
     "metadata": {},
     "output_type": "execute_result"
    }
   ],
   "source": [
    "reload(m)\n",
    "m.select_baseline(train.log_error)"
   ]
  },
  {
   "cell_type": "code",
   "execution_count": null,
   "metadata": {},
   "outputs": [],
   "source": []
  },
  {
   "cell_type": "code",
   "execution_count": 8,
   "metadata": {},
   "outputs": [
    {
     "data": {
      "text/plain": [
       "((43330, 5), (43330, 8))"
      ]
     },
     "execution_count": 8,
     "metadata": {},
     "output_type": "execute_result"
    }
   ],
   "source": [
    "reload(m)\n",
    "train_process_frame = train[['fireplace_count','latitude','longitude','tax_value','calc_sqft','bed_count','bath_count','log_error']].copy()\n",
    "features = ['fireplace_count','bed_count','bath_count']\n",
    "cluster_cols = ['tax_value','calc_sqft','latitude','longitude']\n",
    "cluster_name = 'cluster_fuck'\n",
    "target = 'log_error'\n",
    "# log_error_min = train_process_frame.log_error.min()\n",
    "# train_process_frame.log_error = train_process_frame.log_error - log_error_min\n",
    "train_process_frame = train_process_frame.reset_index(drop=True)\n",
    "clustered_scaled,scaler,clusterer = m.scale_and_cluster(train_process_frame,features=features,target=target,cluster_cols=cluster_cols,cluster_name=cluster_name,k=7)\n",
    "regressors = m.generate_regressor(clustered_scaled,features=features,target=target,cluster_col=cluster_name,regressor=LinearRegression(normalize=True))\n",
    "ypred = m.apply_to_clusters(clustered_scaled,features=features,target=target,cluster_col=cluster_name,regressors=regressors)\n",
    "clustered_scaled.shape, train_process_frame.shape"
   ]
  },
  {
   "cell_type": "code",
   "execution_count": null,
   "metadata": {},
   "outputs": [],
   "source": [
    "predictions_df = pd.DataFrame()\n",
    "predictions_df['y_true'] = train.log_error\n",
    "predictions_df['y_pred'] = 1.0\n",
    "cluster_group = clustered_scaled.groupby('cluster_fuck')\n",
    "for i,group in cluster_group:\n",
    "    predictions_df.iloc[group.index,1] = regressors[i].predict(group)\n",
    "predictions_df.y_true = predictions_df.y_true + log_error_min\n",
    "predictions_df.y_pred = predictions_df.y_pred + log_error_min\n"
   ]
  },
  {
   "cell_type": "code",
   "execution_count": null,
   "metadata": {},
   "outputs": [
    {
     "data": {
      "text/html": [
       "<div>\n",
       "<style scoped>\n",
       "    .dataframe tbody tr th:only-of-type {\n",
       "        vertical-align: middle;\n",
       "    }\n",
       "\n",
       "    .dataframe tbody tr th {\n",
       "        vertical-align: top;\n",
       "    }\n",
       "\n",
       "    .dataframe thead th {\n",
       "        text-align: right;\n",
       "    }\n",
       "</style>\n",
       "<table border=\"1\" class=\"dataframe\">\n",
       "  <thead>\n",
       "    <tr style=\"text-align: right;\">\n",
       "      <th></th>\n",
       "      <th>SSE</th>\n",
       "      <th>ESS</th>\n",
       "      <th>TSS</th>\n",
       "      <th>MSE</th>\n",
       "      <th>RMSE</th>\n",
       "    </tr>\n",
       "  </thead>\n",
       "  <tbody>\n",
       "    <tr>\n",
       "      <th>Regression Model</th>\n",
       "      <td>1303.639804</td>\n",
       "      <td>22.013285</td>\n",
       "      <td>1325.653089</td>\n",
       "      <td>0.030086</td>\n",
       "      <td>0.173454</td>\n",
       "    </tr>\n",
       "  </tbody>\n",
       "</table>\n",
       "</div>"
      ],
      "text/plain": [
       "                          SSE        ESS          TSS       MSE      RMSE\n",
       "Regression Model  1303.639804  22.013285  1325.653089  0.030086  0.173454"
      ]
     },
     "execution_count": 35,
     "metadata": {},
     "output_type": "execute_result"
    }
   ],
   "source": [
    "import evaluate as ev\n",
    "ev.regression_errors(predictions_df.y_true,predictions_df.y_pred,'Regression Model')"
   ]
  }
 ],
 "metadata": {
  "kernelspec": {
   "display_name": "Python 3.9.13 ('codeup')",
   "language": "python",
   "name": "python3"
  },
  "language_info": {
   "codemirror_mode": {
    "name": "ipython",
    "version": 3
   },
   "file_extension": ".py",
   "mimetype": "text/x-python",
   "name": "python",
   "nbconvert_exporter": "python",
   "pygments_lexer": "ipython3",
   "version": "3.9.13"
  },
  "orig_nbformat": 4,
  "vscode": {
   "interpreter": {
    "hash": "653f3b7eb86bda3113d2d1f85ae6ed711e8a2906aba868c97a03afd554718a6e"
   }
  }
 },
 "nbformat": 4,
 "nbformat_minor": 2
}
