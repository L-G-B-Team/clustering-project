{
 "cells": [
  {
   "cell_type": "code",
   "execution_count": 44,
   "metadata": {},
   "outputs": [],
   "source": [
    "import model as m\n",
    "import explore as e\n",
    "import wrangle as w\n",
    "import pandas as pd\n",
    "from importlib import reload\n",
    "from sklearn.linear_model import LinearRegression,TweedieRegressor,LassoLars\n",
    "import evaluate as ev\n",
    "import warnings\n",
    "warnings.simplefilter('ignore')"
   ]
  },
  {
   "cell_type": "code",
   "execution_count": 45,
   "metadata": {},
   "outputs": [],
   "source": [
    "train,validate,test = w.tvt_split(w.wrangle_zillow())"
   ]
  },
  {
   "cell_type": "code",
   "execution_count": 71,
   "metadata": {},
   "outputs": [
    {
     "data": {
      "text/markdown": [
       "|                 |     SSE |       MSE |     RMSE |\n",
       "|:----------------|--------:|----------:|---------:|\n",
       "| Mean Baseline   | 1285.55 | 0.0296687 | 0.172246 |\n",
       "| Median Baseline | 1289.55 | 0.0297612 | 0.172514 |\n",
       "### Because mean outperformed median on all metrics,         we will use mean as our baseline"
      ],
      "text/plain": [
       "<IPython.core.display.Markdown object>"
      ]
     },
     "execution_count": 71,
     "metadata": {},
     "output_type": "execute_result"
    }
   ],
   "source": [
    "reload(m)\n",
    "md, mean_baseline = m.select_baseline(train.log_error)\n",
    "md"
   ]
  },
  {
   "cell_type": "code",
   "execution_count": null,
   "metadata": {},
   "outputs": [],
   "source": []
  },
  {
   "cell_type": "code",
   "execution_count": 47,
   "metadata": {},
   "outputs": [
    {
     "data": {
      "text/plain": [
       "((43330, 5), (43330, 8))"
      ]
     },
     "execution_count": 47,
     "metadata": {},
     "output_type": "execute_result"
    }
   ],
   "source": [
    "reload(m)\n",
    "train_process_frame = train[['fireplace_count','latitude','longitude','tax_value','calc_sqft','bed_count','bath_count','log_error']].copy()\n",
    "features = ['fireplace_count','bed_count','bath_count']\n",
    "cluster_cols = ['tax_value','calc_sqft','latitude','longitude']\n",
    "cluster_name = 'cluster_fuck'\n",
    "target = 'log_error'\n",
    "# log_error_min = train_process_frame.log_error.min()\n",
    "# train_process_frame.log_error = train_process_frame.log_error - log_error_min\n",
    "train_process_frame = train_process_frame.reset_index(drop=True)\n",
    "clustered_scaled,scaler,clusterer = m.scale_and_cluster(train_process_frame,features=features,target=target,cluster_cols=cluster_cols,cluster_name=cluster_name,k=7)\n",
    "regressors = m.generate_regressor(clustered_scaled,features=features,target=target,cluster_name=cluster_name,regressor=LinearRegression(normalize=True))\n",
    "ypred = m.apply_to_clusters(clustered_scaled,features=features,target=target,cluster_name=cluster_name,regressors=regressors)\n",
    "clustered_scaled.shape, train_process_frame.shape"
   ]
  },
  {
   "cell_type": "code",
   "execution_count": 48,
   "metadata": {},
   "outputs": [
    {
     "data": {
      "image/png": "[encoded data removed]",
      "text/plain": [
       "<Figure size 640x480 with 1 Axes>"
      ]
     },
     "metadata": {},
     "output_type": "display_data"
    }
   ],
   "source": [
    "import evaluate as ev\n",
    "ev.plot_residuals(ypred.y_true,ypred.y_pred)\n"
   ]
  },
  {
   "cell_type": "code",
   "execution_count": 75,
   "metadata": {},
   "outputs": [
    {
     "data": {
      "text/html": [
       "<div>\n",
       "<style scoped>\n",
       "    .dataframe tbody tr th:only-of-type {\n",
       "        vertical-align: middle;\n",
       "    }\n",
       "\n",
       "    .dataframe tbody tr th {\n",
       "        vertical-align: top;\n",
       "    }\n",
       "\n",
       "    .dataframe thead th {\n",
       "        text-align: right;\n",
       "    }\n",
       "</style>\n",
       "<table border=\"1\" class=\"dataframe\">\n",
       "  <thead>\n",
       "    <tr style=\"text-align: right;\">\n",
       "      <th></th>\n",
       "      <th>RMSE</th>\n",
       "    </tr>\n",
       "  </thead>\n",
       "  <tbody>\n",
       "    <tr>\n",
       "      <th>Regression Model</th>\n",
       "      <td>0.172223</td>\n",
       "    </tr>\n",
       "  </tbody>\n",
       "</table>\n",
       "</div>"
      ],
      "text/plain": [
       "                      RMSE\n",
       "Regression Model  0.172223"
      ]
     },
     "execution_count": 75,
     "metadata": {},
     "output_type": "execute_result"
    }
   ],
   "source": [
    "\n",
    "ev.regression_errors(ypred.y_true,ypred.y_pred,'Regression Model')[['RMSE']]"
   ]
  },
  {
   "cell_type": "code",
   "execution_count": 62,
   "metadata": {},
   "outputs": [
    {
     "data": {
      "text/plain": [
       "y_true   -2.406257\n",
       "y_pred    0.034631\n",
       "dtype: float64"
      ]
     },
     "execution_count": 62,
     "metadata": {},
     "output_type": "execute_result"
    }
   ],
   "source": [
    "from sklearn.linear_model import TweedieRegressor\n",
    "reload(m)\n",
    "reload(ev)\n",
    "modeling_vars = ['fireplace_count','latitude','longitude','tax_value','calc_sqft','log_error']\n",
    "training = train[modeling_vars]\n",
    "validating = validate[modeling_vars]\n",
    "testing = test[modeling_vars]\n",
    "features = ['fireplace_count','tax_value','calc_sqft']\n",
    "cluster_cols = ['tax_value','calc_sqft']\n",
    "cluster_name = 'tax_and_location'\n",
    "target = 'log_error'\n",
    "k = 7\n",
    "kmeans = None\n",
    "scaler = None\n",
    "regressor = TweedieRegressor(power=0,alpha=1.0)\n",
    "current_df = training\n",
    "tweedie_train_predictions,scaler,kmeans,regressor = m.process_model(df=current_df,features=features,\n",
    "    target=target,cluster_cols=cluster_cols,cluster_name=cluster_name,regressor=regressor,k=k,kmeans=kmeans,scaler=scaler)\n",
    "current_df = validating\n",
    "tweedie_validate_predictions,_,_,_= m.process_model(df=current_df,features=features,\n",
    "    target=target,cluster_cols=cluster_cols,cluster_name=cluster_name,regressor=regressor,k=k,kmeans=kmeans,scaler=scaler)\n",
    "regressor = LassoLars(alpha=1.0)\n",
    "current_df = training\n",
    "llars_train_predictions,scaler,kmeans,regressor = m.process_model(df=current_df,features=features,\n",
    "    target=target,cluster_cols=cluster_cols,cluster_name=cluster_name,regressor=regressor,k=k,kmeans=kmeans,scaler=scaler)\n",
    "current_df = validating\n",
    "llars_validate_predictions,_,_,_ = m.process_model(df=current_df,features=features,\n",
    "    target=target,cluster_cols=cluster_cols,cluster_name=cluster_name,regressor=regressor,k=k,kmeans=kmeans,scaler=scaler)\n",
    "regressor = LinearRegression(normalize=True)\n",
    "current_df = training\n",
    "linreg_train_predictions,scaler,kmeans,regressor = m.process_model(df=current_df,features=features,\n",
    "    target=target,cluster_cols=cluster_cols,cluster_name=cluster_name,regressor=regressor,k=k,kmeans=kmeans,scaler=scaler)\n",
    "current_df = validating\n",
    "linreg_validate_predictions,_,_,_= m.process_model(df=current_df,features=features,\n",
    "    target=target,cluster_cols=cluster_cols,cluster_name=cluster_name,regressor=regressor,k=k,kmeans=kmeans,scaler=scaler)\n",
    "ev.get_errors([tweedie_train_predictions,tweedie_validate_predictions,llars_train_predictions,llars_validate_predictions,linreg_train_predictions,linreg_validate_predictions],\n",
    "['TweedieRegressor train','TweedieRegressor validate','LASSO+LARS train','LASSO+LARS validate','LinearRegression train','LinearRegression validate'])\n",
    "llars_validate_predictions.min()\n"
   ]
  },
  {
   "cell_type": "code",
   "execution_count": 88,
   "metadata": {},
   "outputs": [
    {
     "data": {
      "text/html": [
       "<div>\n",
       "<style scoped>\n",
       "    .dataframe tbody tr th:only-of-type {\n",
       "        vertical-align: middle;\n",
       "    }\n",
       "\n",
       "    .dataframe tbody tr th {\n",
       "        vertical-align: top;\n",
       "    }\n",
       "\n",
       "    .dataframe thead th {\n",
       "        text-align: right;\n",
       "    }\n",
       "</style>\n",
       "<table border=\"1\" class=\"dataframe\">\n",
       "  <thead>\n",
       "    <tr style=\"text-align: right;\">\n",
       "      <th></th>\n",
       "      <th>SSE</th>\n",
       "      <th>MSE</th>\n",
       "      <th>RMSE</th>\n",
       "      <th>ESS</th>\n",
       "      <th>TSS</th>\n",
       "    </tr>\n",
       "  </thead>\n",
       "  <tbody>\n",
       "    <tr>\n",
       "      <th>Mean Baseline</th>\n",
       "      <td>1285.545898</td>\n",
       "      <td>0.029669</td>\n",
       "      <td>0.172246</td>\n",
       "      <td>NaN</td>\n",
       "      <td>NaN</td>\n",
       "    </tr>\n",
       "    <tr>\n",
       "      <th>TweedieRegressor train</th>\n",
       "      <td>1285.540149</td>\n",
       "      <td>0.029669</td>\n",
       "      <td>0.172246</td>\n",
       "      <td>2.617750e-05</td>\n",
       "      <td>1285.540176</td>\n",
       "    </tr>\n",
       "    <tr>\n",
       "      <th>TweedieRegressor validate</th>\n",
       "      <td>521.722318</td>\n",
       "      <td>0.028095</td>\n",
       "      <td>0.167615</td>\n",
       "      <td>1.052695e-02</td>\n",
       "      <td>521.732845</td>\n",
       "    </tr>\n",
       "    <tr>\n",
       "      <th>LASSO+LARS train</th>\n",
       "      <td>1285.545898</td>\n",
       "      <td>0.029669</td>\n",
       "      <td>0.172246</td>\n",
       "      <td>1.103633e-27</td>\n",
       "      <td>1285.545898</td>\n",
       "    </tr>\n",
       "    <tr>\n",
       "      <th>LASSO+LARS validate</th>\n",
       "      <td>521.725601</td>\n",
       "      <td>0.028095</td>\n",
       "      <td>0.167616</td>\n",
       "      <td>1.113536e-02</td>\n",
       "      <td>521.736736</td>\n",
       "    </tr>\n",
       "    <tr>\n",
       "      <th>LinearRegression train</th>\n",
       "      <td>1283.216118</td>\n",
       "      <td>0.029615</td>\n",
       "      <td>0.172090</td>\n",
       "      <td>2.329780e+00</td>\n",
       "      <td>1285.545898</td>\n",
       "    </tr>\n",
       "    <tr>\n",
       "      <th>LinearRegression validate</th>\n",
       "      <td>520.973372</td>\n",
       "      <td>0.028055</td>\n",
       "      <td>0.167495</td>\n",
       "      <td>1.056377e+00</td>\n",
       "      <td>522.029749</td>\n",
       "    </tr>\n",
       "  </tbody>\n",
       "</table>\n",
       "</div>"
      ],
      "text/plain": [
       "                                   SSE       MSE      RMSE           ESS  \\\n",
       "Mean Baseline              1285.545898  0.029669  0.172246           NaN   \n",
       "TweedieRegressor train     1285.540149  0.029669  0.172246  2.617750e-05   \n",
       "TweedieRegressor validate   521.722318  0.028095  0.167615  1.052695e-02   \n",
       "LASSO+LARS train           1285.545898  0.029669  0.172246  1.103633e-27   \n",
       "LASSO+LARS validate         521.725601  0.028095  0.167616  1.113536e-02   \n",
       "LinearRegression train     1283.216118  0.029615  0.172090  2.329780e+00   \n",
       "LinearRegression validate   520.973372  0.028055  0.167495  1.056377e+00   \n",
       "\n",
       "                                   TSS  \n",
       "Mean Baseline                      NaN  \n",
       "TweedieRegressor train     1285.540176  \n",
       "TweedieRegressor validate   521.732845  \n",
       "LASSO+LARS train           1285.545898  \n",
       "LASSO+LARS validate         521.736736  \n",
       "LinearRegression train     1285.545898  \n",
       "LinearRegression validate   522.029749  "
      ]
     },
     "execution_count": 88,
     "metadata": {},
     "output_type": "execute_result"
    }
   ],
   "source": [
    "reload(m)\n",
    "reload(ev)\n",
    "errors = m.train_and_validate_errors(train,validate)\n",
    "_,mean_eval = m.select_baseline(train.log_error)\n",
    "\n",
    "pd.concat([mean_eval,errors],axis=0)"
   ]
  }
 ],
 "metadata": {
  "kernelspec": {
   "display_name": "Python 3.9.13 ('codeup')",
   "language": "python",
   "name": "python3"
  },
  "language_info": {
   "codemirror_mode": {
    "name": "ipython",
    "version": 3
   },
   "file_extension": ".py",
   "mimetype": "text/x-python",
   "name": "python",
   "nbconvert_exporter": "python",
   "pygments_lexer": "ipython3",
   "version": "3.9.13"
  },
  "orig_nbformat": 4,
  "vscode": {
   "interpreter": {
    "hash": "653f3b7eb86bda3113d2d1f85ae6ed711e8a2906aba868c97a03afd554718a6e"
   }
  }
 },
 "nbformat": 4,
 "nbformat_minor": 2
}
